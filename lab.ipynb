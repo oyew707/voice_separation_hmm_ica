{
 "cells": [
  {
   "cell_type": "code",
   "execution_count": null,
   "id": "initial_id",
   "metadata": {
    "collapsed": true,
    "is_executing": true
   },
   "outputs": [],
   "source": [
    "import librosa\n",
    "import scipy.signal as scipy_signal\n",
    "import numpy as np\n",
    "import tensorflow as tf\n",
    "from hmica_learning import HMICALearner, ParallelHMICALearner\n",
    "import matplotlib.pyplot as plt\n",
    "import seaborn as sns\n",
    "from IPython.display import Audio\n",
    "import pandas as pd\n",
    "import os"
   ]
  },
  {
   "cell_type": "code",
   "outputs": [],
   "source": [
    "parents = [os.getcwd(), 'mix', '2_speaker_8000_hz']\n",
    "path = os.path.join(*parents, \"2speakers/wav8k/max/cv/mix/01aa010s_0.40678_40ia010v_-0.40678.wav\")\n",
    "path_a = os.path.join(*parents, \"2speakers/wav8k/max/cv/s1/01aa010s_0.40678_40ia010v_-0.40678.wav\")\n",
    "path_b = os.path.join(*parents, \"2speakers/wav8k/max/cv/s2/01aa010s_0.40678_40ia010v_-0.40678.wav\")\n",
    "\n",
    "mixed_signal, sr = librosa.load(path, sr=None)\n",
    "source_1, sampling_rate_1 = librosa.load(path_a, sr=None)\n",
    "source_2, sampling_rate_2 = librosa.load(path_b, sr=None)"
   ],
   "metadata": {
    "collapsed": false,
    "is_executing": true
   },
   "id": "297c60d3a93a1bf0",
   "execution_count": null
  },
  {
   "cell_type": "code",
   "outputs": [],
   "source": [
    "def butter_lowpass(cutoff, fs, order=5):\n",
    "    nyq = 0.5 * fs\n",
    "    normal_cutoff = cutoff / nyq\n",
    "    b, a = scipy_signal.butter(order, normal_cutoff, btype='low', analog=False)\n",
    "    return b, a\n",
    "\n",
    "def lowpass_filter(data, cutoff, fs, order=55):\n",
    "    b, a = butter_lowpass(cutoff, fs, order=order)\n",
    "    y = scipy_signal.lfilter(b, a, data)\n",
    "    return y\n",
    "\n",
    "def high_pass_filter(data, cutoff_freq, fs, order=5):\n",
    "    \"\"\"\n",
    "    Apply a high-pass filter to the audio data.\n",
    "\n",
    "    :param data: The audio data as a NumPy array.\n",
    "    :param cutoff_freq: The cutoff frequency of the filter in Hz.\n",
    "    :param fs: The sampling rate of the audio data in Hz.\n",
    "    :param order: The order of the filter.\n",
    "    :return: The filtered audio data.\n",
    "    \"\"\"\n",
    "\n",
    "    nyq = 0.5 * fs\n",
    "    normal_cutoff = cutoff_freq / nyq\n",
    "    b, a = scipy_signal.butter(order, normal_cutoff, btype='high', analog=False)\n",
    "    y = scipy_signal.filtfilt(b, a, data)\n",
    "    return y"
   ],
   "metadata": {
    "collapsed": false,
    "is_executing": true
   },
   "id": "923e5d577c48230a",
   "execution_count": null
  },
  {
   "cell_type": "code",
   "outputs": [],
   "source": [
    "plt.plot(source_1)"
   ],
   "metadata": {
    "collapsed": false,
    "is_executing": true
   },
   "id": "9d81b4c5b1290bf0",
   "execution_count": null
  },
  {
   "cell_type": "code",
   "outputs": [],
   "source": [
    "plt.plot(source_2)"
   ],
   "metadata": {
    "collapsed": false,
    "is_executing": true
   },
   "id": "d7c12b2dd730a601",
   "execution_count": null
  },
  {
   "cell_type": "code",
   "outputs": [],
   "source": [
    "plt.plot(mixed_signal)"
   ],
   "metadata": {
    "collapsed": false,
    "is_executing": true
   },
   "id": "ae1bd21981755bd6",
   "execution_count": null
  },
  {
   "cell_type": "code",
   "outputs": [],
   "source": [
    "source_1.shape, source_2.shape, mixed_signal.shape"
   ],
   "metadata": {
    "collapsed": false,
    "is_executing": true
   },
   "id": "48278511db5b47f",
   "execution_count": null
  },
  {
   "cell_type": "markdown",
   "source": [
    "### Low and high pass filter to remove high frequency noise and low frequency noise"
   ],
   "metadata": {
    "collapsed": false
   },
   "id": "66831e3baf18e2f2"
  },
  {
   "cell_type": "code",
   "outputs": [],
   "source": [
    "# source_1 = high_pass_filter(source_1, 300, sampling_rate_1) \n",
    "# source_2 = high_pass_filter(source_2, 300, sampling_rate_2)\n",
    "# mixed_signal = high_pass_filter(mixed_signal, 300, sr)"
   ],
   "metadata": {
    "collapsed": false,
    "is_executing": true
   },
   "id": "4005f7626f098320",
   "execution_count": null
  },
  {
   "cell_type": "code",
   "outputs": [],
   "source": [
    "plt.plot(source_1)"
   ],
   "metadata": {
    "collapsed": false,
    "is_executing": true
   },
   "id": "d241e3b1979f72f4",
   "execution_count": null
  },
  {
   "cell_type": "code",
   "outputs": [],
   "source": [
    "plt.plot(source_2)"
   ],
   "metadata": {
    "collapsed": false,
    "is_executing": true
   },
   "id": "412375e81d6de6f2",
   "execution_count": null
  },
  {
   "cell_type": "code",
   "outputs": [],
   "source": [
    "plt.plot(mixed_signal)"
   ],
   "metadata": {
    "collapsed": false,
    "is_executing": true
   },
   "id": "8e2beceaac678ee",
   "execution_count": null
  },
  {
   "cell_type": "code",
   "outputs": [],
   "source": [
    "Audio(mixed_signal, rate=sr)"
   ],
   "metadata": {
    "collapsed": false,
    "is_executing": true
   },
   "id": "3f0a62cff1040608",
   "execution_count": null
  },
  {
   "cell_type": "code",
   "outputs": [],
   "source": [
    "Audio(source_1, rate=sampling_rate_1)"
   ],
   "metadata": {
    "collapsed": false,
    "is_executing": true
   },
   "id": "ac7e65966bf86ece",
   "execution_count": null
  },
  {
   "cell_type": "code",
   "outputs": [],
   "source": [
    "Audio(source_2, rate=sampling_rate_2)"
   ],
   "metadata": {
    "collapsed": false,
    "is_executing": true
   },
   "id": "e32bcba64f7c5f6e",
   "execution_count": null
  },
  {
   "cell_type": "code",
   "outputs": [],
   "source": [
    "mixing_matrix = np.array([[0.3, 0.7], \n",
    "                          [0.8, 0.2]])\n",
    "tmp = np.vstack((source_1, source_2))\n",
    "x = mixing_matrix @ tmp \n",
    "# x = np.vstack((mixed_tmp, mixed_signal))\n",
    "Audio(x, rate=sr)"
   ],
   "metadata": {
    "collapsed": false,
    "is_executing": true
   },
   "id": "260a44d3a7c294d6",
   "execution_count": null
  },
  {
   "cell_type": "code",
   "outputs": [],
   "source": [
    "source_1, sampling_rate_1, source_2, sampling_rate_2"
   ],
   "metadata": {
    "collapsed": false,
    "is_executing": true
   },
   "id": "cc9609263354ec22",
   "execution_count": null
  },
  {
   "cell_type": "markdown",
   "source": [
    "### STFT: (Skip)"
   ],
   "metadata": {
    "collapsed": false
   },
   "id": "1ee475021c1efc25"
  },
  {
   "cell_type": "code",
   "outputs": [],
   "source": [
    "nperseg = 128\n",
    "f, t, Zxx = scipy_signal.stft(mixed_signal, fs=sr, nperseg=nperseg, noverlap=None)\n",
    "print(f'{f.shape=}, {t.shape=}, {Zxx.shape=}')"
   ],
   "metadata": {
    "collapsed": false,
    "is_executing": true
   },
   "id": "52fce9773673bc09",
   "execution_count": null
  },
  {
   "cell_type": "code",
   "outputs": [],
   "source": [
    "# step2 - converting audio np array to spectrogram\n",
    "spec = librosa.feature.melspectrogram(y=mixed_signal,\n",
    "                                        sr=sr,)"
   ],
   "metadata": {
    "collapsed": false,
    "is_executing": true
   },
   "id": "2a6d8324f66b57ac",
   "execution_count": null
  },
  {
   "cell_type": "code",
   "outputs": [],
   "source": [
    "res = librosa.feature.inverse.mel_to_audio(spec,\n",
    "                                           sr=sr,)"
   ],
   "metadata": {
    "collapsed": false,
    "is_executing": true
   },
   "id": "5e7f43e04dd43472",
   "execution_count": null
  },
  {
   "cell_type": "code",
   "outputs": [],
   "source": [
    "Audio(res, rate=sr)"
   ],
   "metadata": {
    "collapsed": false,
    "is_executing": true
   },
   "id": "a73dff31c3b3b406",
   "execution_count": null
  },
  {
   "cell_type": "code",
   "outputs": [],
   "source": [
    "Audio(mixed_signal, rate=sr)"
   ],
   "metadata": {
    "collapsed": false,
    "is_executing": true
   },
   "id": "b784e8485c3ae980",
   "execution_count": null
  },
  {
   "cell_type": "code",
   "outputs": [],
   "source": [
    "res[0], mixed_signal[0]"
   ],
   "metadata": {
    "collapsed": false,
    "is_executing": true
   },
   "id": "4ecf1347bba27ae8",
   "execution_count": null
  },
  {
   "cell_type": "code",
   "outputs": [],
   "source": [
    "\n",
    "t2, x_hat = scipy_signal.istft(Zxx.real, fs=sr, nperseg=nperseg, noverlap=None)\n",
    "print(f'{t2.shape=}, {x_hat.shape=}')"
   ],
   "metadata": {
    "collapsed": false,
    "is_executing": true
   },
   "id": "b0ea0c3b4e07e3ac",
   "execution_count": null
  },
  {
   "cell_type": "code",
   "outputs": [],
   "source": [
    "Audio(x_hat, rate=sr)"
   ],
   "metadata": {
    "collapsed": false,
    "is_executing": true
   },
   "id": "8e011f9594bcf11f",
   "execution_count": null
  },
  {
   "cell_type": "code",
   "outputs": [],
   "source": [
    "plt.plot(x_hat)"
   ],
   "metadata": {
    "collapsed": false,
    "is_executing": true
   },
   "id": "11d677eddd1ae336",
   "execution_count": null
  },
  {
   "cell_type": "code",
   "outputs": [],
   "source": [],
   "metadata": {
    "collapsed": false,
    "is_executing": true
   },
   "id": "eb9f8fca76265ab8",
   "execution_count": null
  },
  {
   "cell_type": "markdown",
   "source": [
    "### HMICA"
   ],
   "metadata": {
    "collapsed": false
   },
   "id": "2d97f8595ce6b306"
  },
  {
   "cell_type": "code",
   "outputs": [],
   "source": [
    "x.shape[0]"
   ],
   "metadata": {
    "collapsed": false,
    "is_executing": true
   },
   "id": "53cb7c6957526242",
   "execution_count": null
  },
  {
   "cell_type": "code",
   "outputs": [],
   "source": [
    "A_6_states = [\n",
    " [0.6500, 0.0700, 0.0700, 0.0700, 0.0700, 0.0700],\n",
    " [0.0700, 0.6500, 0.0700, 0.0700, 0.0700, 0.0700],\n",
    " [0.0700, 0.0700, 0.6500, 0.0700, 0.0700, 0.0700],\n",
    " [0.0700, 0.0700, 0.0700, 0.6500, 0.0700, 0.0700],\n",
    " [0.0700, 0.0700, 0.0700, 0.0700, 0.6500, 0.0700],\n",
    " [0.0700, 0.0700, 0.0700, 0.0700, 0.0700, 0.6500]]\n",
    "\n",
    "A_4_states = [[0.6500, 0.1167, 0.1167, 0.1167],\n",
    " [0.1167, 0.6500, 0.1167, 0.1167],\n",
    " [0.1167, 0.1167, 0.6500, 0.1167],\n",
    " [0.1167, 0.1167, 0.1167, 0.6500]]\n",
    "\n",
    "\n",
    "hmica = ParallelHMICALearner(\n",
    "    k=6,  # number of states;  No-one, speaker 1, speaker 2 and both speakers (doubled to try to capture more acoustic information)\n",
    "    m=2,  # number of sources\n",
    "    x_dims=x.shape[0],\n",
    "    use_gar=True,\n",
    "    gar_order=10, # p = 8to12 should cover 1-1.5ms of speech context Speech has short-term correlations that span roughly 2-3ms\n",
    "    update_interval=10,  # suggested by the paper\n",
    "    learning_rates={\n",
    "        'W': 1e-2,  # Unmixing matrix\n",
    "        'R': 1e-2,  # Shape parameter\n",
    "        'beta': 1e-2,  # Scale parameter\n",
    "        'C': 1e-2  # GAR coefficients\n",
    "    },\n",
    "    use_analytical=False,\n",
    "    A = tf.convert_to_tensor(A_6_states)\n",
    ")\n",
    "\n",
    "history = hmica.train(tf.convert_to_tensor(x.astype('float32').T)\n",
    "                      , hmm_max_iter=15, ica_max_iter=5000, hmm_tol=1e-4, ica_tol=1e-2)"
   ],
   "metadata": {
    "collapsed": false,
    "is_executing": true
   },
   "id": "66c9d8318df97e44",
   "execution_count": null
  },
  {
   "cell_type": "code",
   "outputs": [],
   "source": [
    "sns.lineplot(x=range(len(history['hmm_ll'])), y=history['hmm_ll'])\n",
    "\n",
    "# Set the title and labels\n",
    "plt.title(\"Full Model Log Likelihood\")\n",
    "plt.xlabel(\"Iteration\")\n",
    "plt.ylabel(\"Log Likelihood\")"
   ],
   "metadata": {
    "collapsed": false,
    "is_executing": true
   },
   "id": "b4b214e458f1ffd9",
   "execution_count": null
  },
  {
   "cell_type": "code",
   "outputs": [],
   "source": [
    "df_list = []\n",
    "for group, values in history['ica_ll'].items():\n",
    "    temp_df = pd.DataFrame({\n",
    "        'Group': group,\n",
    "        'Value': values,\n",
    "        'Index': range(len(values))\n",
    "    })\n",
    "    df_list.append(temp_df)    \n",
    "df = pd.concat(df_list, ignore_index=True)\n",
    "\n",
    "sns.lineplot(data=df, x='Index', y='Value', hue='Group')\n",
    "\n",
    "# Set the title and labels\n",
    "plt.title(\"ICA (X|Z) Log Likelihood\")\n",
    "plt.xlabel(\"Iteration\")\n",
    "plt.ylabel(\"Log Likelihood\")"
   ],
   "metadata": {
    "collapsed": false,
    "is_executing": true
   },
   "id": "a82f1ac5ca02dbfe",
   "execution_count": null
  },
  {
   "cell_type": "code",
   "outputs": [],
   "source": [
    "obs_prob = lambda state, x: hmica.ica.compute_likelihood(x, state)\n",
    "state_sequence, w_matrix = hmica.hmm.viterbi_for_inference(tf.convert_to_tensor(x.astype('float32').T), obs_prob)"
   ],
   "metadata": {
    "collapsed": false,
    "is_executing": true
   },
   "id": "b857a77221faf16a",
   "execution_count": null
  },
  {
   "cell_type": "code",
   "outputs": [],
   "source": [
    "sources_k = [hmica.ica.get_sources(tf.convert_to_tensor(x.astype('float32').T), k) for k in range(hmica.k)] \n",
    "sources_stacked = tf.stack(sources_k) "
   ],
   "metadata": {
    "collapsed": false,
    "is_executing": true
   },
   "id": "3917069c96535c63",
   "execution_count": null
  },
  {
   "cell_type": "code",
   "outputs": [],
   "source": [
    "reconstructed_sources = tf.einsum('tk,ktn->tn', state_sequence[:-1], sources_stacked)\n",
    "reconstructed_sources = tf.transpose(reconstructed_sources)"
   ],
   "metadata": {
    "collapsed": false,
    "is_executing": true
   },
   "id": "f77b531391e617b",
   "execution_count": null
  },
  {
   "cell_type": "code",
   "outputs": [],
   "source": [
    "Audio(reconstructed_sources[0].numpy(), rate=sr)"
   ],
   "metadata": {
    "collapsed": false,
    "is_executing": true
   },
   "id": "225e2c7b8dd52dc9",
   "execution_count": null
  },
  {
   "cell_type": "code",
   "outputs": [
    {
     "ename": "NameError",
     "evalue": "name 'Audio' is not defined",
     "output_type": "error",
     "traceback": [
      "\u001B[0;31m---------------------------------------------------------------------------\u001B[0m",
      "\u001B[0;31mNameError\u001B[0m                                 Traceback (most recent call last)",
      "Cell \u001B[0;32mIn[1], line 1\u001B[0m\n\u001B[0;32m----> 1\u001B[0m \u001B[43mAudio\u001B[49m(reconstructed_sources[\u001B[38;5;241m1\u001B[39m]\u001B[38;5;241m.\u001B[39mnumpy(), rate\u001B[38;5;241m=\u001B[39msr)\n",
      "\u001B[0;31mNameError\u001B[0m: name 'Audio' is not defined"
     ]
    }
   ],
   "source": [
    "Audio(reconstructed_sources[1].numpy(), rate=sr)"
   ],
   "metadata": {
    "collapsed": false,
    "ExecuteTime": {
     "end_time": "2024-12-07T20:15:07.151920Z",
     "start_time": "2024-12-07T20:15:07.046587Z"
    }
   },
   "id": "d72f2098a83d7b31",
   "execution_count": 1
  },
  {
   "cell_type": "code",
   "outputs": [],
   "source": [
    "tf.reduce_sum(state_sequence, axis=0)"
   ],
   "metadata": {
    "collapsed": false,
    "ExecuteTime": {
     "start_time": "2024-12-07T20:15:07.152521Z"
    }
   },
   "id": "63233e0af99f218d",
   "execution_count": null
  },
  {
   "cell_type": "code",
   "outputs": [],
   "source": [
    "hmica.ica.W"
   ],
   "metadata": {
    "collapsed": false,
    "ExecuteTime": {
     "start_time": "2024-12-07T20:15:07.153197Z"
    }
   },
   "id": "a103590ea899db44",
   "execution_count": null
  },
  {
   "cell_type": "code",
   "outputs": [],
   "source": [],
   "metadata": {
    "collapsed": false,
    "ExecuteTime": {
     "end_time": "2024-12-07T20:15:07.154156Z",
     "start_time": "2024-12-07T20:15:07.154015Z"
    }
   },
   "id": "89b5645363d1fa7d",
   "execution_count": null
  },
  {
   "cell_type": "code",
   "outputs": [],
   "source": [],
   "metadata": {
    "collapsed": false,
    "ExecuteTime": {
     "start_time": "2024-12-07T20:15:07.154513Z"
    }
   },
   "id": "e15f8ba1c9a2623c",
   "execution_count": null
  }
 ],
 "metadata": {
  "kernelspec": {
   "display_name": "Python 3",
   "language": "python",
   "name": "python3"
  },
  "language_info": {
   "codemirror_mode": {
    "name": "ipython",
    "version": 2
   },
   "file_extension": ".py",
   "mimetype": "text/x-python",
   "name": "python",
   "nbconvert_exporter": "python",
   "pygments_lexer": "ipython2",
   "version": "2.7.6"
  }
 },
 "nbformat": 4,
 "nbformat_minor": 5
}
